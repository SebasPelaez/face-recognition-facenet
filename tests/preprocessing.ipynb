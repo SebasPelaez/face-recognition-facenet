{
 "cells": [
  {
   "cell_type": "code",
   "execution_count": 12,
   "metadata": {},
   "outputs": [],
   "source": [
    "import os\n",
    "import sys\n",
    "import cv2\n",
    "\n",
    "import matplotlib.pyplot as plt\n",
    "import numpy as np\n",
    "import pandas as pd\n",
    "import tensorflow as tf\n",
    "\n",
    "# we need to append the root directory to the path to import data.py\\n\",\n",
    "sys.path.append('..')\n",
    "import utils"
   ]
  },
  {
   "cell_type": "code",
   "execution_count": 2,
   "metadata": {},
   "outputs": [
    {
     "data": {
      "text/plain": [
       "{'batch_size': 9,\n",
       " 'learning_rate': 0.001,\n",
       " 'max_steps': 1500,\n",
       " 'data_dir': '..\\\\dataset',\n",
       " 'data_dir_lfw': '..\\\\dataset\\\\lfw_data',\n",
       " 'labels_json': 'labels.json',\n",
       " 'model_dir': 'checkpoints',\n",
       " 'shuffle': True,\n",
       " 'shuffle_buffer': 4,\n",
       " 'image_shape': [250, 250],\n",
       " 'eval_steps': 10,\n",
       " 'keep_checkpoint_max': 3,\n",
       " 'log_frequency': 20,\n",
       " 'save_checkpoints_steps': 20,\n",
       " 'save_summary_steps': 20,\n",
       " 'start_delay_secs': 10}"
      ]
     },
     "execution_count": 2,
     "metadata": {},
     "output_type": "execute_result"
    }
   ],
   "source": [
    "params = utils.yaml_to_dict('../config.yml')\n",
    "params['data_dir'] = os.path.join('..', params['data_dir'])\n",
    "params['data_dir_lfw'] = os.path.join('..', params['data_dir_lfw'])\n",
    "params"
   ]
  },
  {
   "cell_type": "code",
   "execution_count": 49,
   "metadata": {},
   "outputs": [],
   "source": [
    "datasets = ['training.txt','validation.txt','test.txt']\n",
    "\n",
    "all_data = pd.DataFrame()\n",
    "\n",
    "for dataset_name in datasets:\n",
    "    \n",
    "    data_path = os.path.join(params['data_dir'],dataset_name)\n",
    "    df = pd.read_csv(data_path, sep=\"\\t\", header=None)\n",
    "    all_data = pd.concat([all_data, df])\n",
    "    \n",
    "for index, row in all_data.iterrows():\n",
    "    \n",
    "    folder_name, num_items = row\n",
    "    \n",
    "    if num_items == 1:\n",
    "        \n",
    "        folder_path = os.path.join(params['data_dir_lfw'],folder_name)\n",
    "        image = os.listdir(folder_path)[0]\n",
    "        image_path = os.path.join(folder_path,image)\n",
    "        \n",
    "        upload_image = cv2.imread(image_path,cv2.IMREAD_COLOR)\n",
    "        flip_image = np.flip(upload_image,0)\n",
    "        flip_image = np.flip(flip_image,1)\n",
    "        \n",
    "        image_save_path = os.path.join(folder_path,folder_name+'_0002.jpg')\n",
    "        cv2.imwrite(image_save_path,flip_image)"
   ]
  },
  {
   "cell_type": "code",
   "execution_count": null,
   "metadata": {},
   "outputs": [],
   "source": []
  }
 ],
 "metadata": {
  "kernelspec": {
   "display_name": "Python 3",
   "language": "python",
   "name": "python3"
  },
  "language_info": {
   "codemirror_mode": {
    "name": "ipython",
    "version": 3
   },
   "file_extension": ".py",
   "mimetype": "text/x-python",
   "name": "python",
   "nbconvert_exporter": "python",
   "pygments_lexer": "ipython3",
   "version": "3.6.8"
  }
 },
 "nbformat": 4,
 "nbformat_minor": 2
}
