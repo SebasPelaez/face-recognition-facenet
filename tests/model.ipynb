{
 "cells": [
  {
   "cell_type": "code",
   "execution_count": 147,
   "metadata": {},
   "outputs": [
    {
     "name": "stdout",
     "output_type": "stream",
     "text": [
      "The autoreload extension is already loaded. To reload it, use:\n",
      "  %reload_ext autoreload\n"
     ]
    }
   ],
   "source": [
    "import os\n",
    "import sys\n",
    "import tensorflow as tf\n",
    "\n",
    "# we need to append the root directory to the path to import data.py\\n\",\n",
    "sys.path.append('..')\n",
    "import utils\n",
    "import model\n",
    "\n",
    "%load_ext autoreload\n",
    "%autoreload 2"
   ]
  },
  {
   "cell_type": "code",
   "execution_count": 148,
   "metadata": {},
   "outputs": [],
   "source": [
    "params = utils.yaml_to_dict('../config.yml')\n",
    "params['data_dir'] = os.path.join('..', params['data_dir'])"
   ]
  },
  {
   "cell_type": "markdown",
   "metadata": {},
   "source": [
    "## Model Summary"
   ]
  },
  {
   "cell_type": "code",
   "execution_count": 149,
   "metadata": {},
   "outputs": [
    {
     "name": "stdout",
     "output_type": "stream",
     "text": [
      "_________________________________________________________________\n",
      "Layer (type)                 Output Shape              Param #   \n",
      "=================================================================\n",
      "conv2d_1444 (Conv2D)         (None, 125, 125, 64)      9472      \n",
      "_________________________________________________________________\n",
      "activation_470 (Activation)  (None, 125, 125, 64)      0         \n",
      "_________________________________________________________________\n",
      "max_pooling2d_317 (MaxPoolin (None, 63, 63, 64)        0         \n",
      "_________________________________________________________________\n",
      "batch_normalization_103 (Bat (None, 63, 63, 64)        256       \n",
      "_________________________________________________________________\n",
      "conv2d_1445 (Conv2D)         (None, 63, 63, 192)       110784    \n",
      "_________________________________________________________________\n",
      "activation_471 (Activation)  (None, 63, 63, 192)       0         \n",
      "_________________________________________________________________\n",
      "batch_normalization_104 (Bat (None, 63, 63, 192)       768       \n",
      "_________________________________________________________________\n",
      "max_pooling2d_318 (MaxPoolin (None, 32, 32, 192)       0         \n",
      "_________________________________________________________________\n",
      "inception_block_without_down (None, 32, 32, 256)       163696    \n",
      "_________________________________________________________________\n",
      "inception_block_without_down (None, 32, 32, 320)       227776    \n",
      "_________________________________________________________________\n",
      "inception_block_92 (Inceptio (None, 16, 16, 323)       398755    \n",
      "_________________________________________________________________\n",
      "inception_block_without_down (None, 16, 16, 640)       383232    \n",
      "_________________________________________________________________\n",
      "inception_block_without_down (None, 16, 16, 640)       595216    \n",
      "_________________________________________________________________\n",
      "inception_block_without_down (None, 16, 16, 640)       654112    \n",
      "_________________________________________________________________\n",
      "inception_block_without_down (None, 16, 16, 640)       722224    \n",
      "_________________________________________________________________\n",
      "inception_block_97 (Inceptio (None, 8, 8, 387)         719331    \n",
      "_________________________________________________________________\n",
      "inception_block_without_down (None, 8, 8, 1024)        1109440   \n",
      "_________________________________________________________________\n",
      "inception_block_without_down (None, 8, 8, 1024)        1588464   \n",
      "_________________________________________________________________\n",
      "global_average_pooling2d_13  (None, 1024)              0         \n",
      "_________________________________________________________________\n",
      "dense_19 (Dense)             (None, 128)               131200    \n",
      "_________________________________________________________________\n",
      "activation_530 (Activation)  (None, 128)               0         \n",
      "=================================================================\n",
      "Total params: 6,814,726\n",
      "Trainable params: 6,814,214\n",
      "Non-trainable params: 512\n",
      "_________________________________________________________________\n"
     ]
    }
   ],
   "source": [
    "inputs = tf.keras.layers.Input(shape=(250, 250, 3))\n",
    "architecture = model.FaceNet_Architecture()\n",
    "x = architecture(inputs, training=False)\n",
    "architecture.summary()"
   ]
  }
 ],
 "metadata": {
  "kernelspec": {
   "display_name": "Python 3",
   "language": "python",
   "name": "python3"
  },
  "language_info": {
   "codemirror_mode": {
    "name": "ipython",
    "version": 3
   },
   "file_extension": ".py",
   "mimetype": "text/x-python",
   "name": "python",
   "nbconvert_exporter": "python",
   "pygments_lexer": "ipython3",
   "version": "3.6.8"
  }
 },
 "nbformat": 4,
 "nbformat_minor": 2
}
